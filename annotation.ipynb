{
 "cells": [
  {
   "cell_type": "markdown",
   "metadata": {},
   "source": [
    "### isolates: genome annotation and variant calling\n",
    "\n",
    "* prokka: https://github.com/tseemann/prokka"
   ]
  },
  {
   "cell_type": "code",
   "execution_count": 18,
   "metadata": {},
   "outputs": [],
   "source": [
    "import sys,os,subprocess,glob,shutil\n",
    "%matplotlib inline\n",
    "import pylab as plt\n",
    "import numpy as np\n",
    "import pandas as pd\n",
    "import seaborn as sns\n",
    "#from importlib import reload\n",
    "\n",
    "plt.rcParams[\"figure.dpi\"] = 150\n",
    "from Bio import Entrez\n",
    "from Bio.SeqRecord import SeqRecord\n",
    "from Bio.Seq import Seq\n",
    "from Bio import SeqIO\n",
    "from Bio import Phylo, AlignIO\n",
    "from tools import *\n",
    "#from epitopepredict import sequtils\n",
    "Entrez.email = 'A.N.Other@example.com'\n",
    "from matplotlib.colors import ListedColormap, LogNorm\n",
    "import matplotlib.patches as mpatches\n",
    "from IPython.display import display, HTML\n",
    "pd.set_option('display.width', 130)\n",
    "pd.set_option('display.max_colwidth', 120)\n",
    "pd.set_option(\"max_r\",120)\n",
    "clrs = [\"#007acc\", \"#2ecc71\", \"#e74c3c\"]\n",
    "my_cmap = ListedColormap(sns.color_palette(clrs).as_hex())\n",
    "sns.set_style(\"white\", {'font_scale':1.1})"
   ]
  },
  {
   "cell_type": "code",
   "execution_count": 16,
   "metadata": {},
   "outputs": [
    {
     "name": "stdout",
     "output_type": "stream",
     "text": [
      "['RF1A', 'RF2A', 'RF2B', 'RF2C', 'RF5A', 'RF6A1', 'RF6A2', 'RF6B', 'RF6C', 'RF7A', 'RF8A', 'RF8B', 'RF9', 'RF11', 'RF12A', 'RF14A', 'RF16A']\n"
     ]
    }
   ],
   "source": [
    "info = pd.read_csv('isolates.csv')\n",
    "names = info.id\n",
    "isolates = info[info.stage!='reference'].id\n",
    "acinet = ['RF14B','RF15A','RF15B']#,'909D3A']\n",
    "refs = ['ecoli_k12','ecoli_IAI39','ecoli_O104_str.2011C-3493','ecoli_UMN026','ecoli_O157_str.Sakai']\n",
    "acinrefs=['Acin_lwof_NCTC5866','Acin_lwof_ZS207','Acin_baum_ASM74664']\n",
    "ecoli = ['RF1A', 'RF2A', 'RF2B', 'RF2C', 'RF5A', 'RF6A1', 'RF6A2', 'RF6B', 'RF6C', 'RF7A', \n",
    "         'RF8A', 'RF8B', 'RF9', 'RF11', 'RF12A', 'RF14A', 'RF16A']\n",
    "pen = ['RF14B', 'RF15A', 'RF15B', 'RF14A','RF16A', 'ecoli_k12', 'Acin_lwof_NCTC5866']\n",
    "pig = ecoli[:-8] + ['ecoli_k12'] + acinet + ['Acin_lwof_NCTC5866']\n",
    "dog=['9805','9808']\n",
    "print (ecoli)"
   ]
  },
  {
   "cell_type": "code",
   "execution_count": 4,
   "metadata": {},
   "outputs": [
    {
     "name": "stdout",
     "output_type": "stream",
     "text": [
      "{'farrowing': (0.86, 0.3712, 0.33999999999999997), 'hospital pen': (0.6311999999999998, 0.33999999999999997, 0.86), '1st stage weaner': (0.5688000000000001, 0.86, 0.33999999999999997), '2nd stage weaner': (0.33999999999999997, 0.8287999999999999, 0.86)}\n"
     ]
    }
   ],
   "source": [
    "stage = info[:20].set_index('id').stage\n",
    "pal =sns.color_palette('hls', len(stage.unique()))\n",
    "lut = dict(zip(stage.unique(), pal))\n",
    "print lut\n",
    "row_colors = stage.map(lut)"
   ]
  },
  {
   "cell_type": "code",
   "execution_count": null,
   "metadata": {},
   "outputs": [],
   "source": [
    "d=[]\n",
    "for name in info.id:\n",
    "    files = glob.glob( 'data/'+name+'*.gz')    \n",
    "    x = [os.path.basename(f) for f in files]\n",
    "    if len(x)>1:\n",
    "        d.append([name, x[0],x[1]])\n",
    "#pd.DataFrame(d)"
   ]
  },
  {
   "cell_type": "code",
   "execution_count": 22,
   "metadata": {},
   "outputs": [
    {
     "data": {
      "text/plain": [
       "<matplotlib.axes._subplots.AxesSubplot at 0x7fdd8ac850b8>"
      ]
     },
     "execution_count": 22,
     "metadata": {},
     "output_type": "execute_result"
    },
    {
     "data": {
      "image/png": "[encoded data removed]",
      "text/plain": [
       "<Figure size 432x288 with 1 Axes>"
      ]
     },
     "metadata": {
      "needs_background": "light"
     },
     "output_type": "display_data"
    }
   ],
   "source": [
    "f='data/RF14B_S3_L001_R1_001.fastq.gz'\n",
    "#df=fastq_to_dataframe(f)\n",
    "df=fasta_to_dataframe('scaffolds/RF14B.fa')\n",
    "df.sequence.str.len().hist(bins=20)\n",
    "#df.sequence.str.len().sort_values()"
   ]
  },
  {
   "cell_type": "markdown",
   "metadata": {},
   "source": [
    "## trim adapters"
   ]
  },
  {
   "cell_type": "code",
   "execution_count": 7,
   "metadata": {},
   "outputs": [
    {
     "name": "stdout",
     "output_type": "stream",
     "text": [
      "cutadapt --cores=8 -a TCCAGTCACCGCTCATTATCTCGTATGCCGTCTTCTGCTTG -A TCCAGTCACCGCTCATTATCTCGTATGCCGTCTTCTGCTTG -o trimmed/RF14B_S3_L001_R1_001.fastq.gz -p trimmed/RF14B_S3_L001_R2_001.fastq.gz data/RF14B_S3_L001_R1_001.fastq.gz data/RF14B_S3_L001_R2_001.fastq.gz\n"
     ]
    }
   ],
   "source": [
    "#gnl|uv|NGB00757.1:1-65 Illumina TruSeq DNA \n",
    "adapter1='TCCAGTCACCGCTCATTATCTCGTATGCCGTCTTCTGCTTG'\n",
    "def trim(name1,name2):    \n",
    "    out1='trimmed/%s' %name1\n",
    "    out2='trimmed/%s' %name2\n",
    "    #cmd='cutadapt --cores=8 -a {a} -o {o} data/{i}'.format(o=out,i=name,a=adapter1)\n",
    "    cmd='cutadapt --cores=8 -a {a} -A {a} -o {o1} -p {o2} data/{i1} data/{i2}'.format(o1=out1,o2=out2,i1=name1,i2=name2,a=adapter1)\n",
    "\n",
    "    print(cmd)\n",
    "    #subprocess.check_output(cmd, shell=True)\n",
    "    \n",
    "trim('RF14B_S3_L001_R1_001.fastq.gz','RF14B_S3_L001_R2_001.fastq.gz')"
   ]
  },
  {
   "cell_type": "markdown",
   "metadata": {},
   "source": [
    "### spades assembly"
   ]
  },
  {
   "cell_type": "code",
   "execution_count": 12,
   "metadata": {},
   "outputs": [
    {
     "name": "stdout",
     "output_type": "stream",
     "text": [
      "/local/SPAdes-3.13.0-Linux/bin/spades.py --pe1-1 trimmed/RF14B_S3_L001_R1_001.fastq.gz --pe1-2 trimmed/RF14B_S3_L001_R2_001.fastq.gz --careful -o assembly_trimmed/RF14B\n"
     ]
    }
   ],
   "source": [
    "def spades(name):\n",
    "    path = 'assembly' \n",
    "    path = 'assembly_trimmed' \n",
    "    files = sorted(glob.glob( 'trimmed/'+name+'*.gz'))\n",
    "    out = '%s/%s' %(path,name)\n",
    "    cmd = '/local/SPAdes-3.13.0-Linux/bin/spades.py --pe1-1 %s --pe1-2 %s --careful -o %s' %(files[0],files[1],out)\n",
    "    print (cmd)\n",
    "    #if not os.path.exists(out): \n",
    "    #    subprocess.check_output(cmd, shell=True)\n",
    "    return\n",
    "\n",
    "spades('RF14B')\n",
    "#for n in ecoli:\n",
    "    #spades(n)\n",
    "    #pth='assembly/%s' %n\n",
    "    #print pth\n",
    "    #shutil.copy(os.path.join(pth,'scaffolds.fasta'), 'scaffolds/%s.fa' %n)  \n",
    "    #shutil.copy(os.path.join(pth,'contigs.fasta'), 'contigs/%s.fa' %n)  "
   ]
  },
  {
   "cell_type": "code",
   "execution_count": 14,
   "metadata": {},
   "outputs": [
    {
     "name": "stdout",
     "output_type": "stream",
     "text": [
      "quast.py scaffolds/RF1A.fa scaffolds/RF2A.fa scaffolds/RF2B.fa scaffolds/RF2C.fa scaffolds/RF5A.fa scaffolds/RF6A1.fa scaffolds/RF6A2.fa scaffolds/RF6B.fa scaffolds/RF6C.fa scaffolds/RF7A.fa scaffolds/RF8A.fa scaffolds/RF8B.fa scaffolds/RF9.fa scaffolds/RF11.fa scaffolds/RF12A.fa scaffolds/RF14A.fa scaffolds/RF16A.fa scaffolds/9805.fa scaffolds/9808.fa -R genomes/ecoli_k12.fa -o quast_results -t 4\n"
     ]
    }
   ],
   "source": [
    "#quast\n",
    "s=' '.join(['scaffolds/%s.fa' %i for i in ecoli+dog])\n",
    "#print s\n",
    "cmd = 'quast.py %s -R genomes/ecoli_k12.fa -o quast_results -t 4' %s\n",
    "print (cmd)"
   ]
  },
  {
   "cell_type": "markdown",
   "metadata": {},
   "source": [
    "### contig stats"
   ]
  },
  {
   "cell_type": "code",
   "execution_count": null,
   "metadata": {},
   "outputs": [],
   "source": [
    "df=pd.read_csv('quast_results/report.tsv',sep='\\t')\n",
    "df=df.set_index('Assembly').T\n",
    "print df.columns\n",
    "df['# contigs (>= 0 bp)'][2:].astype('int').median()\n",
    "df['Total length'].astype('int').min()\n",
    "#df['N50']  \n",
    "#df"
   ]
  },
  {
   "cell_type": "markdown",
   "metadata": {},
   "source": [
    "### prokka annotation of contigs"
   ]
  },
  {
   "cell_type": "code",
   "execution_count": null,
   "metadata": {
    "scrolled": false
   },
   "outputs": [],
   "source": [
    "out='annot_scaff'\n",
    "path = 'contigs'\n",
    "path = 'scaffolds'\n",
    "path = 'genomes'\n",
    "\n",
    "a = glob.glob('genomes/Acin*.fa')\n",
    "a = [os.path.basename(i) for i in a]\n",
    "#print a\n",
    "\n",
    "r = ['Acin_schi_str_ACE','Acin_sp_ACNIH1','Acin_sp_LoGeW2-3']\n",
    "for n in r :\n",
    "    cmd = 'prokka --outdir {o}/{n} {p}/{n}.fa --prefix {n} \\\n",
    "    --hmms Resfams.hmm'.format(n=n,o=out,p=path)\n",
    "    #print cmd\n",
    "    if not os.path.exists('%s/%s' %(out,n)):\n",
    "        print cmd\n",
    "        subprocess.check_output(cmd, shell=True) \n",
    "  "
   ]
  },
  {
   "cell_type": "markdown",
   "metadata": {},
   "source": [
    "### annotation comparison, ecoli"
   ]
  },
  {
   "cell_type": "code",
   "execution_count": 5,
   "metadata": {},
   "outputs": [
    {
     "name": "stdout",
     "output_type": "stream",
     "text": [
      "RF1A 2453\n",
      "RF2A 4062\n",
      "RF2B 4522\n",
      "RF2C 4896\n",
      "RF5A 4404\n",
      "RF6A1 4554\n",
      "RF6A2 5626\n",
      "RF6B 4423\n",
      "RF6C 3208\n",
      "RF7A 4679\n",
      "RF8A 4974\n",
      "RF8B 4981\n",
      "RF9 4712\n",
      "RF11 4762\n",
      "RF12A 5605\n",
      "RF14A 4937\n",
      "RF16A 5582\n",
      "ecoli_k12 4406\n"
     ]
    }
   ],
   "source": [
    "def log_heatmap(x,ax=None):    \n",
    "    if ax==None:\n",
    "        w=len(x)/5+2\n",
    "        plt.figure(figsize=(w,8))\n",
    "    sns.heatmap(x,lw=0,yticklabels=1,#annot=True,norm=LogNorm(vmin=x.min(), vmax=x.max())\n",
    "                annot_kws={'fontsize':9},cbar=False,cmap=my_cmap)\n",
    "    #x=x.fillna(0)    \n",
    "    return\n",
    "\n",
    "def color_cell(val):\n",
    "    color = 'blue' if val ==1 else None\n",
    "    return 'background-color: %s' % color\n",
    "\n",
    "res=prokka_results('annot_scaff', ecoli+['ecoli_k12']) #pen\n",
    "res.to_csv('prokka_results.csv')\n",
    "\n",
    "#plot_products(res)\n"
   ]
  },
  {
   "cell_type": "code",
   "execution_count": null,
   "metadata": {},
   "outputs": [],
   "source": [
    "roary = pd.read_csv('roary_ecoli/gene_presence_absence.csv')\n",
    "x = get_presence_absence(roary)\n",
    "x.index=x.index.droplevel([0,2])\n",
    "print x.columns\n",
    "x=x.drop(refs[1:],1)\n",
    "\n",
    "#core genes in x genomes\n",
    "x['group'] = np.where(x.sum(1)/x.count(1)>.7,'core','accessory')\n",
    "x.groupby(['group']).sum().T.plot(kind='bar', stacked=True, figsize=(10,4))\n",
    "plt.title('Annotated Proteins',fontsize=20)\n",
    "plt.ylabel('proteins')\n",
    "plt.tight_layout()\n",
    "plt.savefig('roary_counts_ecoli.png')"
   ]
  },
  {
   "cell_type": "code",
   "execution_count": null,
   "metadata": {},
   "outputs": [],
   "source": [
    "ani=pd.read_csv('ANIm.csv')\n",
    "ani = ani.set_index('name')\n",
    "sns.heatmap(ani,cmap='coolwarm')#,annot_kws={'format':'%1.2f'})"
   ]
  },
  {
   "cell_type": "markdown",
   "metadata": {},
   "source": [
    "### heatmap for paper figure"
   ]
  },
  {
   "cell_type": "code",
   "execution_count": 14,
   "metadata": {},
   "outputs": [
    {
     "name": "stderr",
     "output_type": "stream",
     "text": [
      "/usr/local/lib/python2.7/dist-packages/ipykernel_launcher.py:17: FutureWarning: Sorting because non-concatenation axis is not aligned. A future version\n",
      "of pandas will change to not sort by default.\n",
      "\n",
      "To accept the future behavior, pass 'sort=False'.\n",
      "\n",
      "To retain the current behavior and silence the warning, pass 'sort=True'.\n",
      "\n"
     ]
    },
    {
     "data": {
      "image/png": "[encoded data removed]",
      "text/plain": [
       "<Figure size 1800x900 with 5 Axes>"
      ]
     },
     "metadata": {},
     "output_type": "display_data"
    }
   ],
   "source": [
    "def merge_info(x):\n",
    "    m=info[['id','stage']]\n",
    "    x=m.merge(x,right_index=True,left_on='id')\n",
    "    x=x.set_index(['stage','id'])\n",
    "    return x\n",
    "\n",
    "#plot for paper\n",
    "p=[]\n",
    "i=0\n",
    "for f in ['roary_counts_bacteriophage.csv','abr_plasmidfinder_counts.csv','abr_card_counts.csv']:\n",
    "    df= pd.read_csv(f,index_col=0).T\n",
    "    #print df\n",
    "    df= df.clip_upper(1)\n",
    "    df = df+i    \n",
    "    i+=1\n",
    "    p.append(df)  \n",
    "p = pd.concat(p)\n",
    "\n",
    "clrs = [\"lightgray\", \"green\", \"#e74c3c\", \"purple\"]\n",
    "my_cmap = ListedColormap(sns.color_palette(clrs).as_hex())\n",
    "\n",
    "p=p[ecoli].fillna(0).T \n",
    "\n",
    "#p=merge_info(p)\n",
    "empty = p.columns[(p==0).all(0)]\n",
    "p = p.drop(empty,1)\n",
    "#print p.columns\n",
    "p.columns = p.columns.map(lambda x: x.split(')')[0].replace('(','_'))\n",
    "#print p\n",
    "#sns.set(font_scale=1.2)\n",
    "cg=sns.clustermap(p, cmap=my_cmap, col_cluster=False, row_colors=row_colors,xticklabels=1,yticklabels=1, figsize=(12,6))\n",
    "fig=cg.fig\n",
    "ax=cg.ax_heatmap\n",
    "cg.cax.set_visible(False)\n",
    "leg = [mpatches.Patch(color=c, label=l) for l,c in lut.items()]\n",
    "cg.ax_heatmap.legend(handles=leg,loc='upper center', bbox_to_anchor=(0.3, .98), ncol=2,\n",
    "                     bbox_transform=plt.gcf().transFigure,frameon=True)\n",
    "\n",
    "ax.text(3,-1,'Bacteriophage')\n",
    "ax.text(17,-1,'Plasmid')\n",
    "ax.text(34,-1,'AMR')\n",
    "ax.axvline(10)\n",
    "ax.axvline(28)\n",
    "#plt.tight_layout()\n",
    "fig.subplots_adjust(top=.88,left=.05,bottom=.3)\n",
    "fig.savefig('pig_gene_heatmap.png',dpi=150)"
   ]
  },
  {
   "cell_type": "markdown",
   "metadata": {},
   "source": [
    "### roary results"
   ]
  },
  {
   "cell_type": "code",
   "execution_count": null,
   "metadata": {},
   "outputs": [],
   "source": [
    "import shutil\n",
    "fl=glob.glob('annot_scaff/*')\n",
    "for f in ecoli: \n",
    "    #print f\n",
    "    fn=glob.glob('annot_scaff/%s/*.gff' %f)[0]\n",
    "    print fn\n",
    "    shutil.copy(fn,'gff_scaff')"
   ]
  },
  {
   "cell_type": "code",
   "execution_count": null,
   "metadata": {
    "scrolled": false
   },
   "outputs": [],
   "source": [
    "cmd = 'roary -f roary_ecoli -e -n -v -z -i 85 -cd 70 -p 8 gff_scaff/*.gff'\n",
    "roary = pd.read_csv('roary_ecoli/gene_presence_absence.csv')\n",
    "\n",
    "#print roary.cat.value_counts()\n",
    "x = get_presence_absence(roary)#,cols=['9805','9808','ecoli_k12'])\n",
    "\n",
    "summ = x.reset_index().groupby('cat').sum()\n",
    "#print summ[ecoli].median(1)\n",
    "#print summ['ecoli_k12']\n",
    "\n",
    "genes_clustermap(x.T)\n",
    "\n",
    "filt = x[(x[ecoli].sum(1)>=6) & (x[refs].sum(1)==0)].reset_index()\n",
    "#print filt\n",
    "c = filt.cat.value_counts()\n",
    "print c[:10]\n",
    "#c[1:10].plot(kind='pie',figsize=(6,6))"
   ]
  },
  {
   "cell_type": "code",
   "execution_count": null,
   "metadata": {},
   "outputs": [],
   "source": [
    "mycats = ['ARO','prophage','bacteriophage','phage','integrase']\n",
    "#df=x.reset_index()\n",
    "#df=df[df.cat.isin(mycats)]\n",
    "#df.style.applymap(color_red).to_excel('roary_genes_all.xlsx', engine='openpyxl')\n",
    "#print df[:3]\n",
    "\n",
    "for n in mycats[:3]:\n",
    "    df = x.loc[(n)]\n",
    "    print n, len(df)\n",
    "    df=df[df.ecoli_k12==0]\n",
    "    #print df\n",
    "    #print df.sum(1).sort_values(ascending=False)\n",
    "    df.index = df.index.droplevel(1)    \n",
    "    #df = df[ecoli]    \n",
    "    df.T.to_csv('roary_counts_%s.csv' %n)\n",
    "    #print df.reset_index().Annotation.value_counts()\n",
    "    genes_clustermap(df.T, title=n)#,fname='roary_genes_cluster_%s.png' %n)\n",
    "    plt.savefig('roary_counts_%s.png' %n)\n",
    "        \n",
    "x.to_csv('genes_not_k12.csv',index=False)"
   ]
  },
  {
   "cell_type": "markdown",
   "metadata": {},
   "source": [
    "### contig report"
   ]
  },
  {
   "cell_type": "code",
   "execution_count": null,
   "metadata": {},
   "outputs": [],
   "source": [
    "files = ['gff_scaff/%s.gff' % n for n in ecoli]\n",
    "contig_report(files, 'contig_report.html', key='ARO')"
   ]
  },
  {
   "cell_type": "markdown",
   "metadata": {},
   "source": [
    "### features on contigs with abr genes"
   ]
  },
  {
   "cell_type": "code",
   "execution_count": null,
   "metadata": {},
   "outputs": [],
   "source": [
    "abr = pd.read_csv('abr_all.csv')\n",
    "abr = abr[abr.DATABASE.isin(['card','vfdb'])]\n",
    "\n",
    "def get_features(gff_file, ids, plot=True):\n",
    "    \"\"\"read gff from prokka to get proteins in each contig\"\"\"\n",
    "    from BCBio import GFF\n",
    "    handle = open(gff_file)\n",
    "    data={}\n",
    "    for rec in list(GFF.parse(handle)):\n",
    "        if rec.id in ids:      \n",
    "            print rec.id\n",
    "            x = []\n",
    "            for feat in rec.features:\n",
    "                q=feat.qualifiers\n",
    "                del q['source']                \n",
    "                if 'gene' not in q:\n",
    "                    try:\n",
    "                        q['gene'] = q['locus_tag']\n",
    "                    except:\n",
    "                        continue\n",
    "                q['locus_tag'] = q['product'][0][:20]\n",
    "                f = (str(feat.location), q['product'][0], q['gene'][0])\n",
    "                print f\n",
    "                x.append(f)\n",
    "            print\n",
    "            data[rec.id] = x            \n",
    "            if plot==True:\n",
    "                graphic_record = BiopythonTranslator().translate_record(rec)\n",
    "                ax, _ = graphic_record.plot(figure_width=20)\n",
    "                plt.title(rec.id)\n",
    "                plt.show()           \n",
    "    handle.close()\n",
    "    return data\n",
    "\n",
    "for name in ecoli:\n",
    "    original = sys.stdout\n",
    "    sys.stdout = open('contig_features/%s.txt' %name,'w')\n",
    "    x=abr[abr.id==name]\n",
    "    #print x\n",
    "    found = x.SEQUENCE\n",
    "    print name    \n",
    "    print '%s genes found by abricate in this isolate' %len(x.GENE.unique())\n",
    "    print '%s contigs' %len(found.unique())\n",
    "    print\n",
    "    gff_file = 'gff_scaff/{n}.gff'.format(n=name) \n",
    "    for f in found.unique():        \n",
    "        feats = get_features(gff_file, f, plot=False)\n",
    "    print '-------------------------------------------'\n",
    "    #print feats\n",
    "    sys.stdout = original"
   ]
  },
  {
   "cell_type": "markdown",
   "metadata": {},
   "source": [
    "### spine results"
   ]
  },
  {
   "cell_type": "code",
   "execution_count": null,
   "metadata": {},
   "outputs": [],
   "source": [
    "cmd='perl Spine/spine.pl -f contig_list_ecoli.txt -t 6 -o results -r 1 -a 80'\n",
    "#spine results\n",
    "sp=pd.read_csv('spine_results/results.statistics.txt',skiprows=3,sep='\\t',comment='#')\n",
    "from IPython.core.display import display\n",
    "display(sp[:4])\n",
    "sp = sp[sp.gen_name.isin(ecoli)]\n",
    "\n",
    "sns.set_context(\"notebook\", font_scale=1.1)\n",
    "f=sns.factorplot(x='gen_name',y='total_bp',data=sp,kind='bar',aspect=4,size=3.5,row='source',sharey=False)\n",
    "plt.savefig('spine_bp_stats.png')\n",
    "f=sns.factorplot(x='gen_name',y='gc_%',data=sp,hue='source',kind='bar',aspect=4)\n"
   ]
  },
  {
   "cell_type": "code",
   "execution_count": null,
   "metadata": {},
   "outputs": [],
   "source": [
    "names = ['rpoB']\n",
    "\n",
    "#seqs,lbls = get_roary_protein(ecoli, 'borD_1', roary)\n",
    "seqs=[]\n",
    "for g in ['borD','borD_1','borD_2']:\n",
    "    s,l=get_roary_protein(g, 'roary_ecoli')#, samples=['RF14A'])\n",
    "    #seqs.extend(s)\n",
    "    for i in s:\n",
    "        print g,i.seq\n",
    "        \n",
    "a = get_roary_gene('coaD','roary_ecoli')"
   ]
  },
  {
   "cell_type": "markdown",
   "metadata": {},
   "source": [
    "### trees from core alignment and binary acc. genes"
   ]
  },
  {
   "cell_type": "code",
   "execution_count": null,
   "metadata": {},
   "outputs": [],
   "source": [
    "seqs = AlignIO.read('roary_ecoli/core_gene_alignment.aln','fasta')\n",
    "seqs = [s for s in seqs if s.id not in ['9808','9805','RF1A','RF6C','ecoli_O157_str.Sakai','ecoli_IAI39']]\n",
    "#aln=AlignIO.MultipleSeqAlignment(seqs)\n",
    "#dm,tree=get_tree(aln)\n",
    "#aln2 = AlignIO.read('roary_ecoli/accessory_binary_genes.fa','fasta')\n",
    "#dm2,tree2=get_tree(aln2)\n",
    "#Phylo.write([tree,tree2], 'roary_ecoli_trees.xml', 'phyloxml')\n",
    "\n",
    "labels = info.set_index('id')['stage'].to_dict()\n",
    "mlst = pd.read_csv('results_MLST.csv')\n",
    "mlstlabels = mlst.set_index('name')['ST'].fillna('').to_dict()\n",
    "\n",
    "r=Phylo.parse('roary_ecoli_trees.xml', 'phyloxml')\n",
    "tree=r.next()\n",
    "f,tr=draw_tree(tree,title='core genes',labels=l,root='ecoli_O104_str.2011C-3493')\n",
    "f.savefig('tree_ecoli_core.png')\n",
    "#tree2=r.next()\n",
    "#f,tr=draw_tree(tree2,root='ecoli_k12',title='accessory genes',labels=l)\n",
    "#f.savefig('tree_ecoli_accessory_binary.png')"
   ]
  },
  {
   "cell_type": "markdown",
   "metadata": {},
   "source": [
    "### ete tree"
   ]
  },
  {
   "cell_type": "code",
   "execution_count": null,
   "metadata": {},
   "outputs": [],
   "source": [
    "def ete_draw(t,fname=None,title='',outfile='ete_tree.png'):\n",
    "    from ete3 import Tree, TreeStyle, Phyloxml, TextFace\n",
    "    t.children\n",
    "    ts = TreeStyle()\n",
    "    #ts.branch_vertical_margin = 10\n",
    "    ts.scale =  800\n",
    "    ts.show_leaf_name = False    \n",
    "    #ts.mode = \"c\"   \n",
    "    ts.title.add_face(TextFace(title, fsize=20), column=0)        \n",
    "    def render():    \n",
    "        display(t.render(\"%%inline\",tree_style=ts,w=500) )\n",
    "    render()\n",
    "    t.render(outfile,dpi=300,h=800,tree_style=ts)\n",
    "    return\n",
    "\n",
    "def ete_colors(tree, colors=None):\n",
    "    for node in tree.traverse():  \n",
    "        if node.name in colors:\n",
    "            #lbl = labels[node.name]\n",
    "            clr = colors[node.name]            \n",
    "            node.add_face(TextFace(node.name, fsize=14), column=0, position='branch-right')\n",
    "            #f2=TextFace(lbl)\n",
    "            #node.add_face(f2, column=1, position='aligned')\n",
    "            #f2.margin_left = 10\n",
    "            nstyle = NodeStyle()\n",
    "            nstyle[\"fgcolor\"] = clr\n",
    "            nstyle[\"size\"] = 15\n",
    "            node.set_style(nstyle)\n",
    "\n",
    "def ete_labels(tree, labels, column=1):\n",
    "    for node in tree.traverse():  \n",
    "        if node.name in labels:\n",
    "            lbl = labels[node.name]                        \n",
    "            f2=TextFace(lbl)\n",
    "            node.add_face(f2, column=column, position='aligned')\n",
    "            f2.margin_left = 10\n",
    "            \n",
    "def get_ete_tree(filename,index=0):    \n",
    "    from ete3 import Tree, Phyloxml\n",
    "    p = Phyloxml()\n",
    "    p.build_from_file(filename)   \n",
    "    t = p.get_phylogeny()[index]\n",
    "    return t\n",
    "\n",
    "t=get_ete_tree('roary_ecoli_trees.xml',1)\n",
    "#print t\n",
    "labels = info.set_index('id')['stage'].to_dict()\n",
    "stage_colors={'farrowing': 'red', \n",
    "              'hospital pen': 'purple',\n",
    "              '1st stage weaner': 'lightgreen',\n",
    "              '2nd stage weaner': 'cyan',\n",
    "              'reference':'black' }\n",
    "colors={}\n",
    "for i in labels: \n",
    "    if labels[i] in stage_colors:\n",
    "        colors[i] = stage_colors[labels[i]]\n",
    "\n",
    "ete_colors(t, colors)\n",
    "ete_labels(t, labels)\n",
    "ete_labels(t, mlstlabels, 2)\n",
    "ete_draw(t,outfile='tree_ecoli_core.png')\n"
   ]
  },
  {
   "cell_type": "markdown",
   "metadata": {},
   "source": [
    "### use selected housekeeping genes from roary to make an alignment and ML tree"
   ]
  },
  {
   "cell_type": "code",
   "execution_count": null,
   "metadata": {},
   "outputs": [],
   "source": [
    "from Bio.Phylo.Consensus import *\n",
    "from Bio.Phylo.Applications import PhymlCommandline\n",
    "\n",
    "def get_concatenated_genes(genes, path='roary', omit=[]):\n",
    "    \"\"\"get subsets of genes from roary and concatenate\"\"\"\n",
    "    seqrecs={}\n",
    "    for g in genes:       \n",
    "        aln = get_roary_gene(g, path)        \n",
    "        if aln is None:\n",
    "            continue        \n",
    "        for seq in aln:\n",
    "            n = seq.id\n",
    "            if n not in seqrecs:\n",
    "                seqrecs[n] = ''\n",
    "            seqrecs[n]+=seq.seq\n",
    "        print g, len(aln)\n",
    "    seqs=[]      \n",
    "    for n in seqrecs:\n",
    "        if n in omit: continue\n",
    "        s=seqrecs[n]    \n",
    "        seqs.append(SeqRecord(s,id=n))\n",
    "        #print SeqRecord(s,id=n)\n",
    "    return seqs\n",
    "\n",
    "hkgenes = ['gapA_1','purA','recA','cysG','clpX','rpoA']\n",
    "\n",
    "seqs = get_concatenated_genes(hkgenes, 'roary_ecoli', omit=['9808','9805','ecoli_O157_str.Sakai']) #'RF1A','RF6C'\n",
    "SeqIO.write(seqs, 'temp.fa', \"fasta\")\n",
    "haln=muscle_alignment(seqs=seqs)\n",
    "haln=AlignIO.MultipleSeqAlignment(haln)\n",
    "AlignIO.write(haln,'ecoli_hkgenes.aln','fasta')\n",
    "#print haln\n"
   ]
  },
  {
   "cell_type": "code",
   "execution_count": null,
   "metadata": {},
   "outputs": [],
   "source": [
    "#make ML tree\n",
    "#print haln\n",
    "mtree = ml_tree(haln,'ecoli_hkgenes')\n",
    "Phylo.write(mtree, 'tree_ecoli_hkgenes_ml.xml','phyloxml')\n",
    "#f,tr=draw_tree(mtree, root='ecoli_k12',labels=l)\n",
    "#f.savefig('tree_hkgenes_ecoli_ml.png')\n",
    "\n",
    "t = get_ete_tree(\"tree_ecoli_hkgenes_ml.xml\")\n",
    "ete_colors(t, colors)\n",
    "ete_labels(t, labels)\n",
    "ete_labels(t, mlstlabels, 2)\n",
    "ete_draw(t)"
   ]
  },
  {
   "cell_type": "markdown",
   "metadata": {},
   "source": [
    "### isfinder"
   ]
  },
  {
   "cell_type": "code",
   "execution_count": 17,
   "metadata": {},
   "outputs": [
    {
     "name": "stdout",
     "output_type": "stream",
     "text": [
      "RF14A\n",
      "RF16A\n",
      "RF14B\n",
      "RF15A\n",
      "RF15B\n",
      "ecoli_k12\n",
      "Acin_sp_ACNIH1\n"
     ]
    }
   ],
   "source": [
    "def get_isfinder(filename):\n",
    "    #parse ISfinder results\n",
    "    from bs4 import BeautifulSoup\n",
    "    import re\n",
    "\n",
    "    myfile=open(filename,'r')\n",
    "    html=myfile.read()\n",
    "    soup = BeautifulSoup(html, 'lxml')\n",
    "    tables = soup.find_all('table')\n",
    "    conts = soup.find_all(text=re.compile(\"NODE*\"))\n",
    "    conts = [c.split('\\n')[0].strip() for c in conts]\n",
    "    cols= ['sequence','IS_family','group','origin','score','e_value']\n",
    "\n",
    "    res=[]\n",
    "    for table,cont in zip(tables,conts):    \n",
    "        rows=[]\n",
    "        for row in table.find_all('tr'):       \n",
    "            column_marker = 0\n",
    "            columns = row.find_all('td')\n",
    "            row = [col.get_text() for col in columns]\n",
    "            rows.append(row)\n",
    "        if len(rows)<=1: continue\n",
    "        df=pd.DataFrame(rows,columns=cols)       \n",
    "        df['contig']=cont\n",
    "        df['e_value'] = df.e_value.astype('float')        \n",
    "        res.append(df)    \n",
    "    res=pd.concat(res).reset_index(drop=True)    \n",
    "    res = res.dropna(0,'any')\n",
    "    return res\n",
    "    \n",
    "isf=[]\n",
    "\n",
    "for i in ecoli + acinet + ['ecoli_k12','Acin_sp_ACNIH1']:\n",
    "#for i in acinet + ['ecoli_k12']:    \n",
    "    fname = 'isfinder/%s.html' %i\n",
    "    if not os.path.exists(fname):\n",
    "        continue\n",
    "    print i\n",
    "    res = get_isfinder(fname)\n",
    "    res['sample']=i\n",
    "    isf.append(res)\n",
    "isf=pd.concat(isf)\n",
    "isf.to_csv('isfinder_results.csv',index=False)"
   ]
  },
  {
   "cell_type": "code",
   "execution_count": null,
   "metadata": {
    "scrolled": false
   },
   "outputs": [],
   "source": [
    "isf = pd.read_csv('isfinder_results.csv',dtype={'e_value': np.float32})\n",
    "isf=isf[isf.e_value<.01]\n",
    "\n",
    "#x = pd.pivot_table(isf, values='origin', index=['sequence'], columns=['sample'], aggfunc=np.size)\n",
    "#x=x[x.ecoli_k12.isnull()]\n",
    "#print len(x)\n",
    "#f = list(x.index)\n",
    "\n",
    "#sns.clustermap(x.T,cbar=False,cmap='Blues',xticklabels=0,norm=LogNorm(vmin=0, vmax=x.max()))\n",
    "\n",
    "x=isf#[isf.sequence.isin(f)]\n",
    "x = pd.pivot_table(x, values='origin', index=['IS_family'], columns=['sample'], aggfunc=np.size)\n",
    "x=x.fillna(1).astype('int')\n",
    "#print x\n",
    "x.to_csv('isfinder_counts.csv')\n",
    "h=len(x)/6+2\n",
    "plt.figure(figsize=(7,h))\n",
    "sns.heatmap(x,lw=1,annot=True,yticklabels=1,fmt=\"d\", #norm=LogNorm(vmin=0, vmax=x.max())\n",
    "            annot_kws={'fontsize':9},cbar=False,cmap='Blues')\n",
    "\n",
    "#t = merge_info(x.T)\n",
    "#sns.clustermap(t,cbar=False,cmap='Blues',xticklabels=1,norm=LogNorm(vmin=0, vmax=x.max()))\n",
    "plt.title('IS finder families - Hospital Pen Isolates')\n",
    "plt.savefig('ISfinder_family_counts_ecoli.png')\n",
    "#display(x[:10])"
   ]
  },
  {
   "cell_type": "code",
   "execution_count": null,
   "metadata": {
    "scrolled": false
   },
   "outputs": [],
   "source": [
    "from smallrnaseq import analysis\n",
    "reload(analysis)\n",
    "def pca(X):\n",
    "    l=list(X.index.levels[0])\n",
    "    X.index = X.index.get_level_values(1)\n",
    "    #X = X[X.index.notnull()]\n",
    "    X = X.notnull().astype('int')\n",
    "    X = X.fillna(0)    \n",
    "    pX = analysis.do_mds(X)    \n",
    "    f,ax=plt.subplots(1,1,figsize=(6,6))\n",
    "    analysis.plot_pca(pX, palette='Set1',labels=l,ax=ax)\n",
    "    #plt.title('PCA AMR genes')    \n",
    "    #f.savefig('PCA_amr_genes.png',bbox_inches='tight')\n",
    "    return pX\n",
    "\n",
    "#X=roary.set_index('Gene').copy()[ncols]\n",
    "roary = pd.read_csv('roary_ecoli/gene_presence_absence.csv')\n",
    "X = get_presence_absence(roary)\n",
    "X.index = X.index.droplevel([0,2])\n",
    "X=X.T\n",
    "X = X.merge(info[['id','stage']],left_index=True,right_on='id')\n",
    "X = X.set_index(['id','stage'])\n",
    "px=pca(X)"
   ]
  },
  {
   "cell_type": "code",
   "execution_count": null,
   "metadata": {},
   "outputs": [],
   "source": []
  }
 ],
 "metadata": {
  "kernelspec": {
   "display_name": "Python 2",
   "language": "python",
   "name": "python2"
  },
  "language_info": {
   "codemirror_mode": {
    "name": "ipython",
    "version": 2
   },
   "file_extension": ".py",
   "mimetype": "text/x-python",
   "name": "python",
   "nbconvert_exporter": "python",
   "pygments_lexer": "ipython2",
   "version": "2.7.16"
  }
 },
 "nbformat": 4,
 "nbformat_minor": 2
}
