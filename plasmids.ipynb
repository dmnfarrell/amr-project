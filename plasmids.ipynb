{
 "cells": [
  {
   "cell_type": "markdown",
   "metadata": {
    "extensions": {
     "jupyter_dashboards": {
      "version": 1,
      "views": {
       "grid_default": {
        "col": 0,
        "height": 4,
        "hidden": false,
        "row": 0,
        "width": 4
       },
       "report_default": {
        "hidden": false
       }
      }
     }
    }
   },
   "source": [
    "### estimate plasmid contigs using references"
   ]
  },
  {
   "cell_type": "code",
   "execution_count": 80,
   "metadata": {
    "extensions": {
     "jupyter_dashboards": {
      "version": 1,
      "views": {
       "grid_default": {
        "hidden": true
       },
       "report_default": {
        "hidden": true
       }
      }
     }
    }
   },
   "outputs": [],
   "source": [
    "import sys,os,subprocess,glob,shutil\n",
    "%matplotlib inline\n",
    "import pylab as plt\n",
    "import numpy as np\n",
    "import pandas as pd\n",
    "pd.set_option('display.width', 110)\n",
    "pd.set_option('display.max_colwidth', 80)\n",
    "import seaborn as sns\n",
    "from IPython.display import display, HTML, Markdown\n",
    "from Bio import SeqIO, SeqUtils\n",
    "from dna_features_viewer import BiopythonTranslator\n",
    "from BCBio import GFF\n",
    "from epitopepredict import sequtils\n",
    "from smallrnaseq import utils\n",
    "from tools import *"
   ]
  },
  {
   "cell_type": "code",
   "execution_count": 16,
   "metadata": {
    "extensions": {
     "jupyter_dashboards": {
      "version": 1,
      "views": {
       "grid_default": {
        "hidden": true
       },
       "report_default": {
        "hidden": true
       }
      }
     }
    }
   },
   "outputs": [],
   "source": [
    "info = pd.read_csv('isolates.csv')\n",
    "names = info.id\n",
    "dog=['9805','9808']\n",
    "acinet = ['RF14B','RF15A','RF15B']#,'909D3A']\n",
    "ecoli = ['RF1A', 'RF2A', 'RF2B', 'RF2C', 'RF5A', 'RF6A1', 'RF6A2', 'RF6B', 'RF6C', 'RF7A', \n",
    "         'RF8A', 'RF8B', 'RF9', 'RF11', 'RF12A', 'RF14A', 'RF16A']"
   ]
  },
  {
   "cell_type": "markdown",
   "metadata": {
    "extensions": {
     "jupyter_dashboards": {
      "version": 1,
      "views": {
       "grid_default": {
        "col": 4,
        "height": 4,
        "hidden": false,
        "row": 0,
        "width": 4
       },
       "report_default": {
        "hidden": false
       }
      }
     }
    }
   },
   "source": [
    "### run nucmer against refs so we can exclude non-genomic contigs"
   ]
  },
  {
   "cell_type": "code",
   "execution_count": null,
   "metadata": {
    "extensions": {
     "jupyter_dashboards": {
      "version": 1,
      "views": {
       "grid_default": {
        "hidden": true
       },
       "report_default": {
        "hidden": true
       }
      }
     }
    }
   },
   "outputs": [],
   "source": [
    "ref='ecoli_all'  \n",
    "#ref = 'Acin_lwof_ZS207'\n",
    "#ref = 'Acin_baum_ASM74664'\n",
    "\n",
    "cpath='contigs'\n",
    "for n in ref:\n",
    "    cmd='nucmer --coords -p nucmer genomes/{r}.fa {p}/{n}.fa'.format(p=cpath,r=ref,n=n)    \n",
    "    #cmd='promer --coords -p promer genomes/{r}.fa {p}/{n}.fa'.format(p=cpath,r=ref,n=n)\n",
    "    print cmd\n",
    "    subprocess.check_output(cmd, shell=True)\n",
    "    shutil.move('nucmer.coords', os.path.join(cpath,'%s_nucmer.coords' %n))"
   ]
  },
  {
   "cell_type": "code",
   "execution_count": 27,
   "metadata": {
    "extensions": {
     "jupyter_dashboards": {
      "version": 1,
      "views": {
       "grid_default": {
        "hidden": true
       },
       "report_default": {
        "hidden": true
       }
      }
     }
    }
   },
   "outputs": [],
   "source": [
    "reload(sequtils)\n",
    "\n",
    "def read_nucmer_coords(cfile):\n",
    "    cols=['S1','E1','S2','E2','LEN 1','LEN 2','IDENT','TAG1','TAG2']\n",
    "    a=pd.read_csv(cfile,sep='[\\s|]+',skiprows=5,names=cols,engine='python')\n",
    "    return a\n",
    "\n",
    "def get_plasmids(name, cutoff=2000):\n",
    "    #guess plasmid contigs by comparing to reference\n",
    "    \n",
    "    path = 'scaffolds'\n",
    "    df = utils.fasta_to_dataframe(os.path.join(path,'%s.fa' %name)).reset_index()    \n",
    "    cfile = os.path.join(path,'%s_nucmer.coords' %name)\n",
    "    a = read_nucmer_coords(cfile)  \n",
    "    found = a.TAG2    \n",
    "\n",
    "    pl = df[~df.name.isin(found)]\n",
    "    pl['length'] = pl.sequence.str.len()\n",
    "    pl = pl[pl.length>cutoff]\n",
    "    #print pl    \n",
    "    return pl\n"
   ]
  },
  {
   "cell_type": "code",
   "execution_count": null,
   "metadata": {
    "extensions": {
     "jupyter_dashboards": {
      "version": 1,
      "views": {
       "grid_default": {
        "hidden": true
       },
       "report_default": {
        "hidden": true
       }
      }
     }
    }
   },
   "outputs": [],
   "source": [
    "#a = read_nucmer_coords('contigs_new/RF14B_nucmer.coords')  \n",
    "#a.sort_values(by='LEN 1',ascending=False)\n",
    "\n",
    "pl=get_plasmids('9808') \n",
    "sequtils.dataframe_to_fasta(pl,idkey='name',seqkey='sequence')\n",
    "pl"
   ]
  },
  {
   "cell_type": "code",
   "execution_count": null,
   "metadata": {
    "extensions": {
     "jupyter_dashboards": {
      "version": 1,
      "views": {
       "grid_default": {
        "hidden": true
       },
       "report_default": {
        "hidden": true
       }
      }
     }
    },
    "scrolled": false
   },
   "outputs": [],
   "source": [
    "res=[]\n",
    "for name in ecoli+dog+acinet:\n",
    "    #print name\n",
    "    #display(Markdown('**%s**' %name))\n",
    "    pl=get_plasmids(name, cutoff=2000)\n",
    "    pl['isolate'] = name    \n",
    "    res.append(pl)\n",
    "    out = 'scaffolds/%s_plasmids.fa' %name\n",
    "    utils.dataframe_to_fasta(pl,outfile=out,idkey='name',seqkey='sequence')\n",
    "    #cids=list(pl.name)[:5]\n",
    "    #gff_file = 'annot_new/{n}/{n}.gff'.format(n=name)    \n",
    "    #feats = get_features(gff_file, cids, plot=False)\n",
    "    #print feats\n",
    "    #print ('-----------------------------------------')\n",
    "    \n",
    "plas=pd.concat(res)\n",
    "plas=plas.set_index('isolate')\n",
    "plas.to_csv('plasmids_guessed.csv')"
   ]
  },
  {
   "cell_type": "code",
   "execution_count": 40,
   "metadata": {},
   "outputs": [],
   "source": [
    "def get_contig_seqs(name, contig):\n",
    "    f = 'scaffolds/%s.fa' %name\n",
    "    seq = SeqIO.to_dict( SeqIO.parse(f,'fasta') )\n",
    "    #seqs = dict([(i,seqs[i]) for i in contigs])        \n",
    "    return seq[contig]\n",
    "    \n",
    "def contig_calcs(df):\n",
    "    df['coverage'] = df.apply(lambda x: x['SEQUENCE'].split('_')[5],1).astype('float')\n",
    "    df['length'] = df.apply(lambda x: x['SEQUENCE'].split('_')[3],1).astype('float')    \n",
    "    df['gc'] = df.apply(lambda x: SeqUtils.GC(x.seq),1)\n",
    "    return df"
   ]
  },
  {
   "cell_type": "markdown",
   "metadata": {},
   "source": [
    "### contig sequence for plasmids"
   ]
  },
  {
   "cell_type": "code",
   "execution_count": null,
   "metadata": {},
   "outputs": [],
   "source": [
    "i=0\n",
    "abr = pd.read_csv('abr_plasmidfinder.csv')\n",
    "plas = []\n",
    "for n in ecoli:\n",
    "    conts = sequtils.fasta_to_dataframe('contigs/%s.fa' %n,key='SEQUENCE',seqkey='seq')\n",
    "    #conts = contig_calcs(conts)\n",
    "    #print n,len(conts), conts.gc.median()\n",
    "    cf = abr[abr.id==n].drop_duplicates('SEQUENCE')\n",
    "    conts = list(cf.SEQUENCE) \n",
    "    print n\n",
    "    #print cf\n",
    "    for i,r in cf.iterrows():\n",
    "        c = r.SEQUENCE\n",
    "        seq = get_contig_seq(n, c)\n",
    "        seq.id = r.id+'_'+r.GENE\n",
    "        print seq.id\n",
    "        plas.append(seq)\n",
    "SeqIO.write(plas,'plasmid_contigs.fa','fasta')"
   ]
  },
  {
   "cell_type": "markdown",
   "metadata": {},
   "source": [
    "### plasmid blast results"
   ]
  },
  {
   "cell_type": "code",
   "execution_count": 104,
   "metadata": {},
   "outputs": [
    {
     "name": "stdout",
     "output_type": "stream",
     "text": [
      "                     query     subject  %identity  alignment_length  mismatches  gap opens  qstart   qend  \\\n",
      "0        RF11_Col(MG828)_1  LM996592.1     99.936              1551           1          0      76   1626   \n",
      "4            RF11_Col156_1  CP008716.1     96.654               538          18          0       1    538   \n",
      "5           RF11_Col8282_1  LC056195.1     99.926              4056           3          0      47   4102   \n",
      "7    RF11_IncFIB(K)_1_Kpn3  CP024976.1     99.658              6430          21          1    3629  10057   \n",
      "11      RF11_IncFIC(FII)_1  CP024976.1    100.000              2466           0          0     128   2593   \n",
      "15           RF11_IncFII_1  LC318050.1    100.000              4871           0          0     124   4994   \n",
      "16      RF11_IncI1_1_Alpha  CP021208.1     99.307             17307         111          2     128  17434   \n",
      "17         RF12A_ColRNAI_1  CP014198.2     99.605              6581          25          1    6883  13463   \n",
      "18      RF12A_IncB/O/K/Z_2  CP024154.1     98.306              6257         101          5       2   6256   \n",
      "21  RF12A_IncFIB(K)_1_Kpn3  CP024480.1     99.970             10040           3          0     128  10167   \n",
      "\n",
      "    sstart    send  evalue  bit_score isolate  \\\n",
      "0        1    1551     0.0     2859.0    RF11   \n",
      "4     1106    1643     0.0      894.0    RF11   \n",
      "5     4056       1     0.0     7474.0    RF11   \n",
      "7   149473  155902     0.0    11751.0    RF11   \n",
      "11  103132  100667     0.0     4554.0    RF11   \n",
      "15    1874    6744     0.0     8996.0    RF11   \n",
      "16   25389   42686     0.0    31287.0    RF11   \n",
      "17    7057     478     0.0    12008.0   RF12A   \n",
      "18   74263   68010     0.0    10962.0   RF12A   \n",
      "21   45500   35461     0.0    18524.0   RF12A   \n",
      "\n",
      "                                                                              title  \n",
      "0   Escherichia coli genome assembly FHI74, scaffold scaffold-3_contig-20.0_1_15...  \n",
      "4                 Escherichia coli strain ST648 plasmid pEC648_2, complete sequence  \n",
      "5     Escherichia coli plasmid pV046-a DNA, contig: V046-a_scaffold_7, strain: V046  \n",
      "7          Escherichia coli strain CV839-15 plasmid pCV839-15-p2, complete sequence  \n",
      "11         Escherichia coli strain CV839-15 plasmid pCV839-15-p2, complete sequence  \n",
      "15    Escherichia coli plasmid p41-3 DNA, strain: QD1-5-9, contig: p41-3_contig_001  \n",
      "16           Escherichia coli strain strain Z247 plasmid p2474-3, complete sequence  \n",
      "17          Escherichia coli strain MRE600 plasmid pColE1-MRE600, complete sequence  \n",
      "18             Escherichia coli strain 14EC033 plasmid p14EC033g, complete sequence  \n",
      "21           Escherichia coli strain 2011C-4315 plasmid unnamed1, complete sequence  \n"
     ]
    }
   ],
   "source": [
    "cols='query,subject,%identity,alignment_length,mismatches,gap opens,qstart, qend,sstart,send,evalue,bit_score'\n",
    "x = pd.read_csv('plasmid_contig_blast.csv')\n",
    "x['isolate'] = x['query'].apply(lambda x: x.split('_')[0],1)\n",
    "hits = x.groupby('query').first().reset_index()\n",
    "\n",
    "id_list = list(hits.subject)\n",
    "#ann = retrieve_annotation(id_list)\n",
    "annot = pd.DataFrame([(i['Title'],i['AccessionVersion']) for i in ann],columns=['title','subject'])\n",
    "hits = hits.merge(annot,on='subject',how='left').drop_duplicates()\n",
    "print hits[:10]\n",
    "hits.to_csv('plasmid_top_hits.csv')"
   ]
  },
  {
   "cell_type": "code",
   "execution_count": null,
   "metadata": {},
   "outputs": [],
   "source": [
    "n='RF14B'\n",
    "clrs=['b','r','g']\n",
    "f,ax=plt.subplots(3,1,figsize=(14,5))\n",
    "ax=ax.flat\n",
    "    #print SeqUtils.GC(s)\n",
    "    #print cf[['id','SEQUENCE','GENE']]        \n",
    "    #conts.hist('gc',bins=35,ax=ax[i],color=clrs[i])\n",
    "    #conts.plot('coverage','gc',kind='scatter',ax=ax[i],alpha=.4,s=50,c=clrs[i])\n",
    "    i+=1\n",
    "    #print conts[conts.gc>70]"
   ]
  },
  {
   "cell_type": "code",
   "execution_count": null,
   "metadata": {},
   "outputs": [],
   "source": [
    "print y[(y.gc<45) & (y.coverage>50)]\n",
    "print x.coverage.median()\n",
    "print y.coverage.median()\n",
    "f,ax=plt.subplots(1,1)\n",
    "y.hist('gc',bins=25,ax=ax)\n",
    "x.hist('gc',bins=25,ax=ax.twinx(),color='red',alpha=.5)\n",
    "f,ax=plt.subplots(1,1)\n",
    "y.plot('coverage','gc',kind='scatter',figsize=(14,5),ax=ax,alpha=.5,s=10)\n",
    "x.plot('coverage','gc',kind='scatter',figsize=(14,5),ax=ax,c='red',alpha=.5)\n",
    "ax.set_xlim(-5,200)"
   ]
  },
  {
   "cell_type": "code",
   "execution_count": null,
   "metadata": {
    "extensions": {
     "jupyter_dashboards": {
      "version": 1,
      "views": {
       "grid_default": {},
       "report_default": {
        "hidden": true
       }
      }
     }
    },
    "scrolled": false
   },
   "outputs": [],
   "source": [
    "for name in samples:\n",
    "    print name\n",
    "    display(pl.loc[(name)][cols])\n",
    "    gff_file = 'annot/{n}/{n}.gff'.format(n=name) \n",
    "    feats = get_features(gff_file, found, plot=True)"
   ]
  },
  {
   "cell_type": "code",
   "execution_count": null,
   "metadata": {
    "extensions": {
     "jupyter_dashboards": {
      "version": 1,
      "views": {
       "grid_default": {
        "hidden": true
       },
       "report_default": {
        "hidden": true
       }
      }
     }
    }
   },
   "outputs": [],
   "source": [
    "pl=plas.reset_index().drop('sequence',1)\n",
    "isf = pd.read_csv('isfinder_results.csv')\n",
    "print isf[:2]\n",
    "pl=pl.merge(isf,left_on='name',right_on='contig')\n",
    "print pl"
   ]
  },
  {
   "cell_type": "code",
   "execution_count": null,
   "metadata": {
    "extensions": {
     "jupyter_dashboards": {
      "version": 1,
      "views": {
       "grid_default": {
        "hidden": true
       },
       "report_default": {
        "hidden": true
       }
      }
     }
    }
   },
   "outputs": [],
   "source": []
  }
 ],
 "metadata": {
  "extensions": {
   "jupyter_dashboards": {
    "activeView": "report_default",
    "version": 1,
    "views": {
     "grid_default": {
      "cellMargin": 10,
      "defaultCellHeight": 20,
      "maxColumns": 12,
      "name": "grid",
      "type": "grid"
     },
     "report_default": {
      "name": "report",
      "type": "report"
     }
    }
   }
  },
  "kernelspec": {
   "display_name": "Python 2",
   "language": "python",
   "name": "python2"
  },
  "language_info": {
   "codemirror_mode": {
    "name": "ipython",
    "version": 2
   },
   "file_extension": ".py",
   "mimetype": "text/x-python",
   "name": "python",
   "nbconvert_exporter": "python",
   "pygments_lexer": "ipython2",
   "version": "2.7.14"
  }
 },
 "nbformat": 4,
 "nbformat_minor": 2
}
